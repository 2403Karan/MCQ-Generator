{
 "cells": [
  {
   "cell_type": "code",
   "execution_count": 1,
   "id": "fae3ea5c",
   "metadata": {},
   "outputs": [
    {
     "name": "stdout",
     "output_type": "stream",
     "text": [
      "5\n"
     ]
    }
   ],
   "source": [
    "print(2+3)"
   ]
  },
  {
   "cell_type": "code",
   "execution_count": 2,
   "id": "8b701e6d",
   "metadata": {},
   "outputs": [],
   "source": [
    "from langchain.llms import OpenAI\n",
    "from langchain_openai import ChatOpenAI\n",
    "from langchain.prompts import PromptTemplate\n",
    "from langchain.chains import LLMChain, SequentialChain\n",
    "from langchain.callbacks import get_openai_callback\n",
    "import os , json , pandas as pd , traceback , PyPDF2 \n",
    "from dotenv import load_dotenv\n"
   ]
  },
  {
   "cell_type": "code",
   "execution_count": 3,
   "id": "5963a5e1",
   "metadata": {},
   "outputs": [],
   "source": [
    "# load keys as environment variables\n",
    "# it set the .env file and stores all the imp keys\n",
    "load_dotenv()\n",
    "key=os.getenv(\"openai_api_key\")"
   ]
  },
  {
   "cell_type": "code",
   "execution_count": 4,
   "id": "2a3f2427",
   "metadata": {},
   "outputs": [],
   "source": [
    "llm=ChatOpenAI(openai_api_key=key,model_name=\"gpt-3.5-turbo\",temperature=0.5)"
   ]
  },
  {
   "cell_type": "code",
   "execution_count": 5,
   "id": "dbc3e73b",
   "metadata": {},
   "outputs": [],
   "source": [
    "with open(\"D://programs/genAi_project/response.json\",\"r\") as f:\n",
    "    response_json=json.load(f)"
   ]
  },
  {
   "cell_type": "code",
   "execution_count": 6,
   "id": "fe33f792",
   "metadata": {},
   "outputs": [],
   "source": [
    "Template1=\"\"\"\n",
    "Text:{text}\n",
    "you are an expert MCQ maker.given the above text,it is your job to \\\n",
    "create a quiz on {number} multiple questions for {subject} student in {ton}\\\n",
    "make sure the question are not repeated and check all the question to be conformned\\\n",
    "make sure ot format your response like response_json below and use it as a guide.\\\n",
    "ensure to make {number} MCQ's \\\n",
    "{response_json}\n",
    "\"\"\""
   ]
  },
  {
   "cell_type": "code",
   "execution_count": 7,
   "id": "fcf72c9d",
   "metadata": {},
   "outputs": [],
   "source": [
    "quiz_generation_prompt=PromptTemplate(\n",
    "    input_variables=[\"text\",\"number\",\"subject\",\"ton\",\"response_json\"],\n",
    "    template=Template1\n",
    ")"
   ]
  },
  {
   "cell_type": "code",
   "execution_count": 8,
   "id": "a3e10b73",
   "metadata": {},
   "outputs": [
    {
     "name": "stderr",
     "output_type": "stream",
     "text": [
      "C:\\Users\\lenovo\\AppData\\Local\\Temp\\ipykernel_13580\\323202012.py:1: LangChainDeprecationWarning: The class `LLMChain` was deprecated in LangChain 0.1.17 and will be removed in 1.0. Use :meth:`~RunnableSequence, e.g., `prompt | llm`` instead.\n",
      "  quizChain=LLMChain(llm=llm,prompt=quiz_generation_prompt,output_key=\"quiz\",verbose=True)\n"
     ]
    }
   ],
   "source": [
    "quizChain=LLMChain(llm=llm,prompt=quiz_generation_prompt,output_key=\"quiz\",verbose=True)"
   ]
  },
  {
   "cell_type": "code",
   "execution_count": 9,
   "id": "9e22f5ce",
   "metadata": {},
   "outputs": [],
   "source": [
    "# to check the quiz that we generate is correct or not?\n",
    "# to evaluate we did.\n",
    "Template2=\"\"\"you are an expert english grammarian and writer.given a multiple choice question for {subject}\\\n",
    "    you need to evaluate the complexity of the grammer and give the complete analysis of quiz. only use at max 50 words for coplexity analysis. \\\n",
    "    if the quiz is not at per with the cognitive and analytical abilities of the student,\\\n",
    "    update the quiz question which need to be changed and change the tone such that it perfectly fits the student abilities.\\\n",
    "    Quiz_MCQ's:{quiz}\n",
    "    check from an expert english writer of the above quiz:\n",
    "    \"\"\""
   ]
  },
  {
   "cell_type": "code",
   "execution_count": 10,
   "id": "30fb8c16",
   "metadata": {},
   "outputs": [],
   "source": [
    "quiz_evalation_prompt=PromptTemplate(\n",
    "    input_variables=[\"subject\",\"quiz\"],\n",
    "    template=Template2\n",
    ")"
   ]
  },
  {
   "cell_type": "code",
   "execution_count": 11,
   "id": "33561543",
   "metadata": {},
   "outputs": [],
   "source": [
    "reviewChain=LLMChain(llm=llm,prompt=quiz_evalation_prompt,output_key=\"review\",verbose=True)"
   ]
  },
  {
   "cell_type": "code",
   "execution_count": 12,
   "id": "4ca14e2c",
   "metadata": {},
   "outputs": [],
   "source": [
    "#here we join both chain as sequential chain\n",
    "generate_evaluate_chain=SequentialChain(chains=[quizChain,reviewChain],input_variables=[\"text\",\"number\",\"subject\",\"ton\",\"response_json\"],output_variables=[\"quiz\",\"review\"],verbose=True)"
   ]
  },
  {
   "cell_type": "code",
   "execution_count": 13,
   "id": "6e9a3376",
   "metadata": {},
   "outputs": [],
   "source": [
    "# generate quix based on any data testing model \n",
    "with open(\"D://programs//genAi_project//data.txt\",\"r\",encoding=\"utf-8\")as f:\n",
    "    content=f.read()"
   ]
  },
  {
   "cell_type": "code",
   "execution_count": 14,
   "id": "4c4c734b",
   "metadata": {},
   "outputs": [],
   "source": [
    "content\n",
    "NUMBER=5\n",
    "SUBJECT=\"Ai\"\n",
    "TON=\"SIMPLE\"\n",
    "RESPONSE=response_json"
   ]
  },
  {
   "cell_type": "code",
   "execution_count": 29,
   "id": "63531074",
   "metadata": {},
   "outputs": [
    {
     "name": "stdout",
     "output_type": "stream",
     "text": [
      "\n",
      "\n",
      "\u001b[1m> Entering new SequentialChain chain...\u001b[0m\n",
      "\n",
      "\n",
      "\u001b[1m> Entering new LLMChain chain...\u001b[0m\n",
      "Prompt after formatting:\n",
      "\u001b[32;1m\u001b[1;3m\n",
      "Text:India take a lap around the ground. Massive cheers for Siraj who soaks it all in after an unreal finish. He's not let go of the match ball. A stump's there as a souvenir. He's closed out one of India's greatest Test wins. The series, which has been contested so closely, ends 2-2. Countless what-ifs but reality has surged past them with waves of drama. The final day lasted under ten overs but packed the action that entire series wish they could. It encapsulated this one with Siraj taking over as the leader. He chucked the wobble seam for swing, hit 90mph, beat the bat as regularly as he did yesterday and topped it with wickets. Overton started the day with two boundaries but were then hit by Siraj. Chris Woakes came out to bat in a sling, didn't face a ball but literally ran through the pain and did everything right to keep Atkinson on strike. He did that, but in the end, it was Siraj who had the final say with a yorker for the ages.\n",
      "\n",
      "Gitanshu: \"This has been a better series than the 2005 Ashes! Any day! The sea-saw, the fight, the climax and the result! \"\n",
      "\n",
      "\n",
      "you are an expert MCQ maker.given the above text,it is your job to create a quiz on 5 multiple questions for Ai student in SIMPLEmake sure the question are not repeated and check all the question to be conformnedmake sure ot format your response like response_json below and use it as a guide.ensure to make 5 MCQ's {\"1\": {\"no\": \"1\", \"mcq\": \"multiple choice questions\", \"options\": {\"a\": \"choice here\", \"b\": \"choice here\", \"c\": \"choice here\", \"d\": \"choice here\"}, \"correct\": \"correct answer\"}, \"2\": {\"no\": \"2\", \"mcq\": \"multiple choice questions\", \"options\": {\"a\": \"choice here\", \"b\": \"choice here\", \"c\": \"choice here\", \"d\": \"choice here\"}, \"correct\": \"correct answer\"}, \"3\": {\"no\": \"3\", \"mcq\": \"multiple choice questions\", \"options\": {\"a\": \"choice here\", \"b\": \"choice here\", \"c\": \"choice here\", \"d\": \"choice here\"}, \"correct\": \"correct answer\"}}\n",
      "\u001b[0m\n",
      "\n",
      "\u001b[1m> Finished chain.\u001b[0m\n",
      "\n",
      "\n",
      "\u001b[1m> Entering new LLMChain chain...\u001b[0m\n",
      "Prompt after formatting:\n",
      "\u001b[32;1m\u001b[1;3myou are an expert english grammarian and writer.given a multiple choice question for Ai    you need to evaluate the complexity of the grammer and give the complete analysis of quiz. only use at max 50 words for coplexity analysis.     if the quiz is not at per with the cognitive and analytical abilities of the student,    update the quiz question which need to be changed and change the tone such that it perfectly fits the student abilities.    Quiz_MCQ's:{\n",
      "    \"1\": {\n",
      "        \"no\": \"1\",\n",
      "        \"mcq\": \"Who closed out one of India's greatest Test wins in the series?\",\n",
      "        \"options\": {\n",
      "            \"a\": \"Chris Woakes\",\n",
      "            \"b\": \"Overton\",\n",
      "            \"c\": \"Siraj\",\n",
      "            \"d\": \"Atkinson\"\n",
      "        },\n",
      "        \"correct\": \"c\"\n",
      "    },\n",
      "    \"2\": {\n",
      "        \"no\": \"2\",\n",
      "        \"mcq\": \"How did Siraj finish the match?\",\n",
      "        \"options\": {\n",
      "            \"a\": \"With a boundary\",\n",
      "            \"b\": \"With a yorker for the ages\",\n",
      "            \"c\": \"By hitting a six\",\n",
      "            \"d\": \"By running out a batsman\"\n",
      "        },\n",
      "        \"correct\": \"b\"\n",
      "    },\n",
      "    \"3\": {\n",
      "        \"no\": \"3\",\n",
      "        \"mcq\": \"Who started the final day with two boundaries?\",\n",
      "        \"options\": {\n",
      "            \"a\": \"Chris Woakes\",\n",
      "            \"b\": \"Overton\",\n",
      "            \"c\": \"Siraj\",\n",
      "            \"d\": \"Atkinson\"\n",
      "        },\n",
      "        \"correct\": \"b\"\n",
      "    },\n",
      "    \"4\": {\n",
      "        \"no\": \"4\",\n",
      "        \"mcq\": \"Who came out to bat in a sling on the final day?\",\n",
      "        \"options\": {\n",
      "            \"a\": \"Chris Woakes\",\n",
      "            \"b\": \"Overton\",\n",
      "            \"c\": \"Siraj\",\n",
      "            \"d\": \"Atkinson\"\n",
      "        },\n",
      "        \"correct\": \"a\"\n",
      "    },\n",
      "    \"5\": {\n",
      "        \"no\": \"5\",\n",
      "        \"mcq\": \"What type of delivery did Siraj use to get the final wicket?\",\n",
      "        \"options\": {\n",
      "            \"a\": \"Bouncer\",\n",
      "            \"b\": \"Full toss\",\n",
      "            \"c\": \"Yorker\",\n",
      "            \"d\": \"Leg break\"\n",
      "        },\n",
      "        \"correct\": \"c\"\n",
      "    }\n",
      "}\n",
      "    check from an expert english writer of the above quiz:\n",
      "    \u001b[0m\n",
      "\n",
      "\u001b[1m> Finished chain.\u001b[0m\n",
      "\n",
      "\u001b[1m> Finished chain.\u001b[0m\n"
     ]
    }
   ],
   "source": [
    "#based on content we have to generate mcq:\n",
    "# important method:\n",
    "with get_openai_callback() as cb:\n",
    "    result = generate_evaluate_chain({\n",
    "        \"text\": content,\n",
    "        \"number\": NUMBER,\n",
    "        \"subject\": SUBJECT,\n",
    "        \"ton\": TON,\n",
    "        \"response_json\": json.dumps(RESPONSE)\n",
    "    })\n"
   ]
  },
  {
   "cell_type": "code",
   "execution_count": 30,
   "id": "663c4712",
   "metadata": {},
   "outputs": [
    {
     "data": {
      "text/plain": [
       "'{\\n    \"1\": {\\n        \"no\": \"1\",\\n        \"mcq\": \"Who closed out one of India\\'s greatest Test wins in the series?\",\\n        \"options\": {\\n            \"a\": \"Chris Woakes\",\\n            \"b\": \"Overton\",\\n            \"c\": \"Siraj\",\\n            \"d\": \"Atkinson\"\\n        },\\n        \"correct\": \"c\"\\n    },\\n    \"2\": {\\n        \"no\": \"2\",\\n        \"mcq\": \"How did Siraj finish the match?\",\\n        \"options\": {\\n            \"a\": \"With a boundary\",\\n            \"b\": \"With a yorker for the ages\",\\n            \"c\": \"By hitting a six\",\\n            \"d\": \"By running out a batsman\"\\n        },\\n        \"correct\": \"b\"\\n    },\\n    \"3\": {\\n        \"no\": \"3\",\\n        \"mcq\": \"Who started the final day with two boundaries?\",\\n        \"options\": {\\n            \"a\": \"Chris Woakes\",\\n            \"b\": \"Overton\",\\n            \"c\": \"Siraj\",\\n            \"d\": \"Atkinson\"\\n        },\\n        \"correct\": \"b\"\\n    },\\n    \"4\": {\\n        \"no\": \"4\",\\n        \"mcq\": \"Who came out to bat in a sling on the final day?\",\\n        \"options\": {\\n            \"a\": \"Chris Woakes\",\\n            \"b\": \"Overton\",\\n            \"c\": \"Siraj\",\\n            \"d\": \"Atkinson\"\\n        },\\n        \"correct\": \"a\"\\n    },\\n    \"5\": {\\n        \"no\": \"5\",\\n        \"mcq\": \"What type of delivery did Siraj use to get the final wicket?\",\\n        \"options\": {\\n            \"a\": \"Bouncer\",\\n            \"b\": \"Full toss\",\\n            \"c\": \"Yorker\",\\n            \"d\": \"Leg break\"\\n        },\\n        \"correct\": \"c\"\\n    }\\n}'"
      ]
     },
     "execution_count": 30,
     "metadata": {},
     "output_type": "execute_result"
    }
   ],
   "source": [
    "result.get(\"quiz\")"
   ]
  },
  {
   "cell_type": "code",
   "execution_count": 16,
   "id": "f896f5ec",
   "metadata": {},
   "outputs": [
    {
     "name": "stdout",
     "output_type": "stream",
     "text": [
      "total token:1445\n",
      "prompt token:1018\n",
      "completion token:427\n",
      "total cost:0.0011495\n"
     ]
    }
   ],
   "source": [
    "print(f\"total token:{cb.total_tokens}\")\n",
    "print(f\"prompt token:{cb.prompt_tokens}\")\n",
    "print(f\"completion token:{cb.completion_tokens}\")\n",
    "print(f\"total cost:{cb.total_cost}\")"
   ]
  },
  {
   "cell_type": "code",
   "execution_count": 27,
   "id": "41c92e0f",
   "metadata": {},
   "outputs": [],
   "source": [
    "# here firstly get the result.quiz  in str format and then load into json format \n",
    "quiz=json.loads(result.get(\"quiz\"))"
   ]
  },
  {
   "cell_type": "code",
   "execution_count": 18,
   "id": "13fcc85b",
   "metadata": {},
   "outputs": [],
   "source": [
    "# in proper format:\n",
    "quizdata=[]\n",
    "for key,value in quiz.items():\n",
    "    mcq=value[\"mcq\"]\n",
    "    options=\" | \".join(\n",
    "        [ \n",
    "            f\"{option}:{option_value}\" for option,option_value in value[\"options\"].items()\n",
    "        ]      \n",
    "    )\n",
    "    correct=value[\"correct\"]\n",
    "    quizdata.append({\"MCQ\":mcq,\"Choices\":options,\"Correct\":correct})"
   ]
  },
  {
   "cell_type": "code",
   "execution_count": 19,
   "id": "8d308860",
   "metadata": {},
   "outputs": [
    {
     "data": {
      "text/plain": [
       "[{'MCQ': \"Who closed out one of India's greatest Test wins in the series?\",\n",
       "  'Choices': 'a:Chris Woakes | b:Siraj | c:Overton | d:Atkinson',\n",
       "  'Correct': 'b'},\n",
       " {'MCQ': 'How did Siraj finish the match?',\n",
       "  'Choices': 'a:With a boundary | b:With a yorker | c:With a six | d:With a no-ball',\n",
       "  'Correct': 'b'},\n",
       " {'MCQ': 'Who started the final day with two boundaries?',\n",
       "  'Choices': 'a:Chris Woakes | b:Siraj | c:Overton | d:Atkinson',\n",
       "  'Correct': 'c'},\n",
       " {'MCQ': 'Who came out to bat in a sling?',\n",
       "  'Choices': 'a:Chris Woakes | b:Siraj | c:Overton | d:Atkinson',\n",
       "  'Correct': 'a'},\n",
       " {'MCQ': 'Who kept Atkinson on strike towards the end?',\n",
       "  'Choices': 'a:Chris Woakes | b:Siraj | c:Overton | d:Atkinson',\n",
       "  'Correct': 'a'}]"
      ]
     },
     "execution_count": 19,
     "metadata": {},
     "output_type": "execute_result"
    }
   ],
   "source": [
    "quizdata"
   ]
  },
  {
   "cell_type": "code",
   "execution_count": 20,
   "id": "e7179baa",
   "metadata": {},
   "outputs": [
    {
     "data": {
      "text/html": [
       "<div>\n",
       "<style scoped>\n",
       "    .dataframe tbody tr th:only-of-type {\n",
       "        vertical-align: middle;\n",
       "    }\n",
       "\n",
       "    .dataframe tbody tr th {\n",
       "        vertical-align: top;\n",
       "    }\n",
       "\n",
       "    .dataframe thead th {\n",
       "        text-align: right;\n",
       "    }\n",
       "</style>\n",
       "<table border=\"1\" class=\"dataframe\">\n",
       "  <thead>\n",
       "    <tr style=\"text-align: right;\">\n",
       "      <th></th>\n",
       "      <th>MCQ</th>\n",
       "      <th>Choices</th>\n",
       "      <th>Correct</th>\n",
       "    </tr>\n",
       "  </thead>\n",
       "  <tbody>\n",
       "    <tr>\n",
       "      <th>0</th>\n",
       "      <td>Who closed out one of India's greatest Test wi...</td>\n",
       "      <td>a:Chris Woakes | b:Siraj | c:Overton | d:Atkinson</td>\n",
       "      <td>b</td>\n",
       "    </tr>\n",
       "    <tr>\n",
       "      <th>1</th>\n",
       "      <td>How did Siraj finish the match?</td>\n",
       "      <td>a:With a boundary | b:With a yorker | c:With a...</td>\n",
       "      <td>b</td>\n",
       "    </tr>\n",
       "    <tr>\n",
       "      <th>2</th>\n",
       "      <td>Who started the final day with two boundaries?</td>\n",
       "      <td>a:Chris Woakes | b:Siraj | c:Overton | d:Atkinson</td>\n",
       "      <td>c</td>\n",
       "    </tr>\n",
       "    <tr>\n",
       "      <th>3</th>\n",
       "      <td>Who came out to bat in a sling?</td>\n",
       "      <td>a:Chris Woakes | b:Siraj | c:Overton | d:Atkinson</td>\n",
       "      <td>a</td>\n",
       "    </tr>\n",
       "    <tr>\n",
       "      <th>4</th>\n",
       "      <td>Who kept Atkinson on strike towards the end?</td>\n",
       "      <td>a:Chris Woakes | b:Siraj | c:Overton | d:Atkinson</td>\n",
       "      <td>a</td>\n",
       "    </tr>\n",
       "  </tbody>\n",
       "</table>\n",
       "</div>"
      ],
      "text/plain": [
       "                                                 MCQ  \\\n",
       "0  Who closed out one of India's greatest Test wi...   \n",
       "1                    How did Siraj finish the match?   \n",
       "2     Who started the final day with two boundaries?   \n",
       "3                    Who came out to bat in a sling?   \n",
       "4       Who kept Atkinson on strike towards the end?   \n",
       "\n",
       "                                             Choices Correct  \n",
       "0  a:Chris Woakes | b:Siraj | c:Overton | d:Atkinson       b  \n",
       "1  a:With a boundary | b:With a yorker | c:With a...       b  \n",
       "2  a:Chris Woakes | b:Siraj | c:Overton | d:Atkinson       c  \n",
       "3  a:Chris Woakes | b:Siraj | c:Overton | d:Atkinson       a  \n",
       "4  a:Chris Woakes | b:Siraj | c:Overton | d:Atkinson       a  "
      ]
     },
     "execution_count": 20,
     "metadata": {},
     "output_type": "execute_result"
    }
   ],
   "source": [
    "df=pd.DataFrame(quizdata)\n",
    "# df.to_csv(\"mcqgenerativeAI.csv\",index=False)\n",
    "df"
   ]
  },
  {
   "cell_type": "code",
   "execution_count": 21,
   "id": "fff723d9",
   "metadata": {},
   "outputs": [
    {
     "data": {
      "text/html": [
       "<div>\n",
       "<style scoped>\n",
       "    .dataframe tbody tr th:only-of-type {\n",
       "        vertical-align: middle;\n",
       "    }\n",
       "\n",
       "    .dataframe tbody tr th {\n",
       "        vertical-align: top;\n",
       "    }\n",
       "\n",
       "    .dataframe thead th {\n",
       "        text-align: right;\n",
       "    }\n",
       "</style>\n",
       "<table border=\"1\" class=\"dataframe\">\n",
       "  <thead>\n",
       "    <tr style=\"text-align: right;\">\n",
       "      <th></th>\n",
       "      <th>MCQ</th>\n",
       "      <th>Choices</th>\n",
       "      <th>Correct</th>\n",
       "    </tr>\n",
       "  </thead>\n",
       "  <tbody>\n",
       "    <tr>\n",
       "      <th>0</th>\n",
       "      <td>Who closed out one of India's greatest Test wi...</td>\n",
       "      <td>a:Chris Woakes | b:Siraj | c:Overton | d:Atkinson</td>\n",
       "      <td>b</td>\n",
       "    </tr>\n",
       "    <tr>\n",
       "      <th>1</th>\n",
       "      <td>How did Siraj finish the match?</td>\n",
       "      <td>a:With a boundary | b:With a yorker | c:With a...</td>\n",
       "      <td>b</td>\n",
       "    </tr>\n",
       "    <tr>\n",
       "      <th>2</th>\n",
       "      <td>Who started the final day with two boundaries?</td>\n",
       "      <td>a:Chris Woakes | b:Siraj | c:Overton | d:Atkinson</td>\n",
       "      <td>c</td>\n",
       "    </tr>\n",
       "  </tbody>\n",
       "</table>\n",
       "</div>"
      ],
      "text/plain": [
       "                                                 MCQ  \\\n",
       "0  Who closed out one of India's greatest Test wi...   \n",
       "1                    How did Siraj finish the match?   \n",
       "2     Who started the final day with two boundaries?   \n",
       "\n",
       "                                             Choices Correct  \n",
       "0  a:Chris Woakes | b:Siraj | c:Overton | d:Atkinson       b  \n",
       "1  a:With a boundary | b:With a yorker | c:With a...       b  \n",
       "2  a:Chris Woakes | b:Siraj | c:Overton | d:Atkinson       c  "
      ]
     },
     "execution_count": 21,
     "metadata": {},
     "output_type": "execute_result"
    }
   ],
   "source": [
    "df.head(3)"
   ]
  }
 ],
 "metadata": {
  "kernelspec": {
   "display_name": "env (3.13.5)",
   "language": "python",
   "name": "python3"
  },
  "language_info": {
   "codemirror_mode": {
    "name": "ipython",
    "version": 3
   },
   "file_extension": ".py",
   "mimetype": "text/x-python",
   "name": "python",
   "nbconvert_exporter": "python",
   "pygments_lexer": "ipython3",
   "version": "3.13.5"
  }
 },
 "nbformat": 4,
 "nbformat_minor": 5
}
